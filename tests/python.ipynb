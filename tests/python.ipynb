{
  "cells": [
    {
      "cell_type": "markdown",
      "metadata": {},
      "source": [
        "---\n",
        "title: Test with Python code\n",
        "date: 2025-04-30\n",
        "author:\n",
        "  - name: Raniere Gaia Costa da Silva\n",
        "    orcid: 0000-0002-8381-3749\n",
        "    email: Raniere.CostadaSilva@gesis.org\n",
        "    affiliation: \n",
        "      - name: GESIS Leibniz Institute for the Social Sciences \n",
        "        url: https://www.gesis.org/\n",
        "  - name: Chung-hong Chan\n",
        "    orcid: 0000-0002-6232-7530\n",
        "    email: Chung-hong.Chan@gesis.org\n",
        "    affiliation: \n",
        "      - name: GESIS Leibniz Institute for the Social Sciences \n",
        "        url: https://www.gesis.org/\n",
        "abstract: > \n",
        "  Minimal working example of Quarto document\n",
        "  with Python code to be converted into Jupyter Notebook\n",
        "  using GitHub Actions. \n",
        "keywords:\n",
        "  - Quarto\n",
        "  - Jupyter Notebook\n",
        "  - GitHub Actions\n",
        "license: \"CC0\"\n",
        "---\n",
        "\n",
        "Lorem ipsum"
      ]
    },
    {
      "cell_type": "code",
      "metadata": {},
      "source": [
        "|# eval: false\n",
        "\n",
        "%pip install matplotlib"
      ],
      "execution_count": null,
      "outputs": []
    },
    {
      "cell_type": "code",
      "metadata": {},
      "source": [
        "1 + 1"
      ],
      "execution_count": null,
      "outputs": []
    }
  ],
  "metadata": {
    "kernelspec": {
      "display_name": "Python 3",
      "language": "python",
      "name": "python3"
    }
  },
  "nbformat": 4,
  "nbformat_minor": 4
}