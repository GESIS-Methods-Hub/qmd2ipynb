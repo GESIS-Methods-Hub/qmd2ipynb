{
  "cells": [
    {
      "cell_type": "markdown",
      "metadata": {},
      "source": [
        "---\n",
        "title: Test with R code\n",
        "date: 2025-04-30\n",
        "author:\n",
        "  - name: Raniere Gaia Costa da Silva\n",
        "    id: jc\n",
        "    orcid: 0000-0002-8381-3749\n",
        "    email: Raniere.CostadaSilva@gesis.org\n",
        "    affiliation: \n",
        "      - name: GESIS Leibniz Institute for the Social Sciences \n",
        "        url: https://www.gesis.org/\n",
        "  - name: Chung-hong Chan\n",
        "    orcid: 0000-0002-6232-7530\n",
        "    email: Chung-hong.Chan@gesis.org\n",
        "    affiliation: \n",
        "      - name: GESIS Leibniz Institute for the Social Sciences \n",
        "        url: https://www.gesis.org/\n",
        "abstract: > \n",
        "  Minimal working example of Quarto document\n",
        "  with R code to be converted into Jupyter Notebook\n",
        "  using GitHub Actions. \n",
        "keywords:\n",
        "  - Quarto\n",
        "  - Jupyter Notebook\n",
        "  - GitHub Actions\n",
        "license: \"CC0\"\n",
        "# The declaration of the Jupyter Kernel is required.\n",
        "jupyter:\n",
        "    kernelspec:\n",
        "        name: \"ir43\"\n",
        "        language: \"R\"\n",
        "        display_name: \"R 4.3.2\"\n",
        "---\n",
        "\n",
        "Lorem ipsum"
      ]
    },
    {
      "cell_type": "code",
      "metadata": {},
      "source": [
        "|# eval: false\n",
        "\n",
        "install.packages(\"tidyverse\")"
      ],
      "execution_count": null,
      "outputs": []
    },
    {
      "cell_type": "code",
      "metadata": {},
      "source": [
        "1 + 1"
      ],
      "execution_count": null,
      "outputs": []
    }
  ],
  "metadata": {
    "kernelspec": {
      "name": "ir43",
      "language": "R",
      "display_name": "R 4.3.2"
    }
  },
  "nbformat": 4,
  "nbformat_minor": 4
}